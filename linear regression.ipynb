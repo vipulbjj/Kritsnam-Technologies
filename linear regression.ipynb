{
 "cells": [
  {
   "cell_type": "markdown",
   "metadata": {
    "collapsed": true
   },
   "source": [
    "**Converting the data into a pandas DataFrame**"
   ]
  },
  {
   "cell_type": "code",
   "execution_count": null,
   "metadata": {
    "collapsed": true
   },
   "outputs": [],
   "source": [
    "import pandas as pd\n",
    "import numpy as np\n",
    "import matplotlib.pyplot as plt\n",
    "from sklearn.linear_model import LinearRegression\n",
    "from sklearn.metrics import mean_squared_error\n",
    "from scipy.io import loadmat"
   ]
  },
  {
   "cell_type": "code",
   "execution_count": 4,
   "metadata": {},
   "outputs": [],
   "source": [
    "mat = loadmat('nirbeer.mat')"
   ]
  },
  {
   "cell_type": "code",
   "execution_count": 5,
   "metadata": {},
   "outputs": [
    {
     "data": {
      "text/plain": [
       "dict"
      ]
     },
     "execution_count": 5,
     "metadata": {},
     "output_type": "execute_result"
    }
   ],
   "source": [
    "type(mat)"
   ]
  },
  {
   "cell_type": "code",
   "execution_count": 6,
   "metadata": {},
   "outputs": [
    {
     "data": {
      "text/plain": [
       "['ytest',\n",
       " 'ycal',\n",
       " 'Xcal',\n",
       " '__header__',\n",
       " '__globals__',\n",
       " 'Xtest',\n",
       " 'xaxis',\n",
       " '__version__']"
      ]
     },
     "execution_count": 6,
     "metadata": {},
     "output_type": "execute_result"
    }
   ],
   "source": [
    "mat.keys()"
   ]
  },
  {
   "cell_type": "code",
   "execution_count": 7,
   "metadata": {
    "collapsed": true
   },
   "outputs": [],
   "source": [
    "Xcal = mat['Xcal']\n",
    "Xtest = mat['Xtest']\n",
    "features = mat['xaxis']\n",
    "ycal = mat['ycal']\n",
    "ytest = mat['ytest']"
   ]
  },
  {
   "cell_type": "code",
   "execution_count": 9,
   "metadata": {},
   "outputs": [
    {
     "data": {
      "text/plain": [
       "926"
      ]
     },
     "execution_count": 9,
     "metadata": {},
     "output_type": "execute_result"
    }
   ],
   "source": [
    "series = []\n",
    "for i in range(Xcal.shape[1]):\n",
    "    series.append(pd.Series(Xcal[:, i]))\n",
    "len(series)"
   ]
  },
  {
   "cell_type": "code",
   "execution_count": 10,
   "metadata": {},
   "outputs": [
    {
     "data": {
      "text/plain": [
       "0     0.809228\n",
       "1     0.804006\n",
       "2     0.739626\n",
       "3     0.699460\n",
       "4     0.702702\n",
       "5     0.784729\n",
       "6     1.043639\n",
       "7     0.771173\n",
       "8     0.803798\n",
       "9     0.867852\n",
       "10    0.840926\n",
       "11    0.759136\n",
       "12    0.776312\n",
       "13    0.906472\n",
       "14    0.762349\n",
       "15    0.770354\n",
       "16    0.709830\n",
       "17    0.827186\n",
       "18    0.691581\n",
       "19    0.842725\n",
       "20    0.974172\n",
       "21    0.802244\n",
       "22    0.792496\n",
       "23    0.754322\n",
       "24    0.774357\n",
       "25    0.756680\n",
       "26    0.829104\n",
       "27    0.735422\n",
       "28    1.001960\n",
       "29    0.757298\n",
       "30    0.763956\n",
       "31    1.002257\n",
       "32    0.773562\n",
       "33    0.792364\n",
       "34    0.968477\n",
       "35    0.884283\n",
       "36    0.898152\n",
       "37    0.830721\n",
       "38    0.837092\n",
       "39    0.876266\n",
       "dtype: float64"
      ]
     },
     "execution_count": 10,
     "metadata": {},
     "output_type": "execute_result"
    }
   ],
   "source": [
    "series[0]"
   ]
  },
  {
   "cell_type": "code",
   "execution_count": 21,
   "metadata": {
    "collapsed": true
   },
   "outputs": [],
   "source": [
    "data = pd.DataFrame()"
   ]
  },
  {
   "cell_type": "code",
   "execution_count": 22,
   "metadata": {},
   "outputs": [
    {
     "data": {
      "text/plain": [
       "926"
      ]
     },
     "execution_count": 22,
     "metadata": {},
     "output_type": "execute_result"
    }
   ],
   "source": [
    "features.size"
   ]
  },
  {
   "cell_type": "code",
   "execution_count": 23,
   "metadata": {
    "collapsed": true
   },
   "outputs": [],
   "source": [
    "for i in range(features.shape[1]):\n",
    "    data[features[0, i]] = series[i]"
   ]
  },
  {
   "cell_type": "code",
   "execution_count": 24,
   "metadata": {},
   "outputs": [
    {
     "data": {
      "text/html": [
       "<div>\n",
       "<style scoped>\n",
       "    .dataframe tbody tr th:only-of-type {\n",
       "        vertical-align: middle;\n",
       "    }\n",
       "\n",
       "    .dataframe tbody tr th {\n",
       "        vertical-align: top;\n",
       "    }\n",
       "\n",
       "    .dataframe thead th {\n",
       "        text-align: right;\n",
       "    }\n",
       "</style>\n",
       "<table border=\"1\" class=\"dataframe\">\n",
       "  <thead>\n",
       "    <tr style=\"text-align: right;\">\n",
       "      <th></th>\n",
       "      <th>400</th>\n",
       "      <th>402</th>\n",
       "      <th>404</th>\n",
       "      <th>406</th>\n",
       "      <th>408</th>\n",
       "      <th>410</th>\n",
       "      <th>412</th>\n",
       "      <th>414</th>\n",
       "      <th>416</th>\n",
       "      <th>418</th>\n",
       "      <th>...</th>\n",
       "      <th>2232</th>\n",
       "      <th>2234</th>\n",
       "      <th>2236</th>\n",
       "      <th>2238</th>\n",
       "      <th>2240</th>\n",
       "      <th>2242</th>\n",
       "      <th>2244</th>\n",
       "      <th>2246</th>\n",
       "      <th>2248</th>\n",
       "      <th>2250</th>\n",
       "    </tr>\n",
       "  </thead>\n",
       "  <tbody>\n",
       "    <tr>\n",
       "      <th>0</th>\n",
       "      <td>0.809228</td>\n",
       "      <td>0.839166</td>\n",
       "      <td>0.857076</td>\n",
       "      <td>0.874258</td>\n",
       "      <td>0.884267</td>\n",
       "      <td>0.898585</td>\n",
       "      <td>0.904815</td>\n",
       "      <td>0.905194</td>\n",
       "      <td>0.903488</td>\n",
       "      <td>0.902187</td>\n",
       "      <td>...</td>\n",
       "      <td>3.679895</td>\n",
       "      <td>3.654557</td>\n",
       "      <td>3.653983</td>\n",
       "      <td>3.714209</td>\n",
       "      <td>3.669642</td>\n",
       "      <td>3.625521</td>\n",
       "      <td>3.647152</td>\n",
       "      <td>3.573585</td>\n",
       "      <td>3.623088</td>\n",
       "      <td>3.679775</td>\n",
       "    </tr>\n",
       "    <tr>\n",
       "      <th>1</th>\n",
       "      <td>0.804006</td>\n",
       "      <td>0.826189</td>\n",
       "      <td>0.847709</td>\n",
       "      <td>0.865769</td>\n",
       "      <td>0.877828</td>\n",
       "      <td>0.888752</td>\n",
       "      <td>0.893231</td>\n",
       "      <td>0.894017</td>\n",
       "      <td>0.893292</td>\n",
       "      <td>0.891371</td>\n",
       "      <td>...</td>\n",
       "      <td>3.632740</td>\n",
       "      <td>3.738945</td>\n",
       "      <td>3.601677</td>\n",
       "      <td>3.592955</td>\n",
       "      <td>3.606268</td>\n",
       "      <td>3.657218</td>\n",
       "      <td>3.632019</td>\n",
       "      <td>3.660901</td>\n",
       "      <td>3.635919</td>\n",
       "      <td>3.671539</td>\n",
       "    </tr>\n",
       "    <tr>\n",
       "      <th>2</th>\n",
       "      <td>0.739626</td>\n",
       "      <td>0.762493</td>\n",
       "      <td>0.775604</td>\n",
       "      <td>0.782518</td>\n",
       "      <td>0.788167</td>\n",
       "      <td>0.795419</td>\n",
       "      <td>0.795223</td>\n",
       "      <td>0.793878</td>\n",
       "      <td>0.790986</td>\n",
       "      <td>0.785020</td>\n",
       "      <td>...</td>\n",
       "      <td>3.563812</td>\n",
       "      <td>3.622122</td>\n",
       "      <td>3.617598</td>\n",
       "      <td>3.652315</td>\n",
       "      <td>3.590150</td>\n",
       "      <td>3.710362</td>\n",
       "      <td>3.630672</td>\n",
       "      <td>3.653063</td>\n",
       "      <td>3.566837</td>\n",
       "      <td>3.704355</td>\n",
       "    </tr>\n",
       "    <tr>\n",
       "      <th>3</th>\n",
       "      <td>0.699460</td>\n",
       "      <td>0.713531</td>\n",
       "      <td>0.724313</td>\n",
       "      <td>0.731107</td>\n",
       "      <td>0.736592</td>\n",
       "      <td>0.735468</td>\n",
       "      <td>0.734549</td>\n",
       "      <td>0.731744</td>\n",
       "      <td>0.726163</td>\n",
       "      <td>0.718673</td>\n",
       "      <td>...</td>\n",
       "      <td>3.583575</td>\n",
       "      <td>3.620621</td>\n",
       "      <td>3.682378</td>\n",
       "      <td>3.681044</td>\n",
       "      <td>3.650404</td>\n",
       "      <td>3.645983</td>\n",
       "      <td>3.633222</td>\n",
       "      <td>3.668727</td>\n",
       "      <td>3.650432</td>\n",
       "      <td>3.687260</td>\n",
       "    </tr>\n",
       "    <tr>\n",
       "      <th>4</th>\n",
       "      <td>0.702702</td>\n",
       "      <td>0.716579</td>\n",
       "      <td>0.729258</td>\n",
       "      <td>0.736214</td>\n",
       "      <td>0.741270</td>\n",
       "      <td>0.742020</td>\n",
       "      <td>0.740587</td>\n",
       "      <td>0.737819</td>\n",
       "      <td>0.732221</td>\n",
       "      <td>0.723229</td>\n",
       "      <td>...</td>\n",
       "      <td>3.650906</td>\n",
       "      <td>3.728940</td>\n",
       "      <td>3.614735</td>\n",
       "      <td>3.618842</td>\n",
       "      <td>3.656746</td>\n",
       "      <td>3.622961</td>\n",
       "      <td>3.560679</td>\n",
       "      <td>3.710902</td>\n",
       "      <td>3.653769</td>\n",
       "      <td>3.663029</td>\n",
       "    </tr>\n",
       "  </tbody>\n",
       "</table>\n",
       "<p>5 rows × 926 columns</p>\n",
       "</div>"
      ],
      "text/plain": [
       "       400       402       404       406       408       410       412   \\\n",
       "0  0.809228  0.839166  0.857076  0.874258  0.884267  0.898585  0.904815   \n",
       "1  0.804006  0.826189  0.847709  0.865769  0.877828  0.888752  0.893231   \n",
       "2  0.739626  0.762493  0.775604  0.782518  0.788167  0.795419  0.795223   \n",
       "3  0.699460  0.713531  0.724313  0.731107  0.736592  0.735468  0.734549   \n",
       "4  0.702702  0.716579  0.729258  0.736214  0.741270  0.742020  0.740587   \n",
       "\n",
       "       414       416       418     ...         2232      2234      2236  \\\n",
       "0  0.905194  0.903488  0.902187    ...     3.679895  3.654557  3.653983   \n",
       "1  0.894017  0.893292  0.891371    ...     3.632740  3.738945  3.601677   \n",
       "2  0.793878  0.790986  0.785020    ...     3.563812  3.622122  3.617598   \n",
       "3  0.731744  0.726163  0.718673    ...     3.583575  3.620621  3.682378   \n",
       "4  0.737819  0.732221  0.723229    ...     3.650906  3.728940  3.614735   \n",
       "\n",
       "       2238      2240      2242      2244      2246      2248      2250  \n",
       "0  3.714209  3.669642  3.625521  3.647152  3.573585  3.623088  3.679775  \n",
       "1  3.592955  3.606268  3.657218  3.632019  3.660901  3.635919  3.671539  \n",
       "2  3.652315  3.590150  3.710362  3.630672  3.653063  3.566837  3.704355  \n",
       "3  3.681044  3.650404  3.645983  3.633222  3.668727  3.650432  3.687260  \n",
       "4  3.618842  3.656746  3.622961  3.560679  3.710902  3.653769  3.663029  \n",
       "\n",
       "[5 rows x 926 columns]"
      ]
     },
     "execution_count": 24,
     "metadata": {},
     "output_type": "execute_result"
    }
   ],
   "source": [
    "data.head()"
   ]
  },
  {
   "cell_type": "markdown",
   "metadata": {},
   "source": [
    "## Plotting the data"
   ]
  },
  {
   "cell_type": "code",
   "execution_count": 25,
   "metadata": {},
   "outputs": [
    {
     "data": {
      "text/plain": [
       "[<matplotlib.lines.Line2D at 0x7f4ba6810a90>]"
      ]
     },
     "execution_count": 25,
     "metadata": {},
     "output_type": "execute_result"
    },
    {
     "data": {
      "image/png": "[encoded data removed]",
      "text/plain": [
       "<matplotlib.figure.Figure at 0x7f4ba6a116d0>"
      ]
     },
     "metadata": {},
     "output_type": "display_data"
    }
   ],
   "source": [
    "# Plotting  the first data\n",
    "%matplotlib inline\n",
    "plt.figure(figsize=(8, 5))\n",
    "plt.plot(Xcal[0])"
   ]
  },
  {
   "cell_type": "code",
   "execution_count": 26,
   "metadata": {},
   "outputs": [
    {
     "data": {
      "image/png": "[encoded data removed]",
      "text/plain": [
       "<matplotlib.figure.Figure at 0x7f4ba6768fd0>"
      ]
     },
     "metadata": {},
     "output_type": "display_data"
    }
   ],
   "source": [
    "#Plotting the first 5 data points\n",
    "plt.figure(figsize=(8, 5))\n",
    "for i in range(5):\n",
    "    plt.plot(Xcal[i])"
   ]
  },
  {
   "cell_type": "markdown",
   "metadata": {},
   "source": [
    "### Plotting all data points together"
   ]
  },
  {
   "cell_type": "code",
   "execution_count": 27,
   "metadata": {},
   "outputs": [
    {
     "data": {
      "image/png": "[encoded data removed]",
      "text/plain": [
       "<matplotlib.figure.Figure at 0x7f4ba4649dd0>"
      ]
     },
     "metadata": {},
     "output_type": "display_data"
    }
   ],
   "source": [
    "for i in range(Xcal.shape[0]):\n",
    "    plt.plot(Xcal[i])"
   ]
  },
  {
   "cell_type": "markdown",
   "metadata": {},
   "source": [
    "### We see that all the 40 beer samples have similar data points at different wavelengths. So we are of the opinion that Linear SVM Regression should be applied with large overfitting."
   ]
  },
  {
   "cell_type": "markdown",
   "metadata": {},
   "source": [
    "** Making y_train_true for data. Also building test_data and y_test_true for testing. **"
   ]
  },
  {
   "cell_type": "code",
   "execution_count": 28,
   "metadata": {
    "collapsed": true
   },
   "outputs": [],
   "source": [
    "ycal = ycal.ravel()\n",
    "y_train_true = pd.Series(ycal)"
   ]
  },
  {
   "cell_type": "code",
   "execution_count": 29,
   "metadata": {},
   "outputs": [
    {
     "data": {
      "text/plain": [
       "0    4.230000\n",
       "1    6.020000\n",
       "2    6.490000\n",
       "3    8.920000\n",
       "4    8.979999\n",
       "dtype: float64"
      ]
     },
     "execution_count": 29,
     "metadata": {},
     "output_type": "execute_result"
    }
   ],
   "source": [
    "y_train_true.head()"
   ]
  },
  {
   "cell_type": "code",
   "execution_count": 30,
   "metadata": {},
   "outputs": [
    {
     "data": {
      "text/plain": [
       "926"
      ]
     },
     "execution_count": 30,
     "metadata": {},
     "output_type": "execute_result"
    }
   ],
   "source": [
    "series = []\n",
    "for i in range(Xtest.shape[1]):\n",
    "    series.append(pd.Series(Xtest[:, i]))\n",
    "len(series)"
   ]
  },
  {
   "cell_type": "code",
   "execution_count": 31,
   "metadata": {
    "collapsed": true
   },
   "outputs": [],
   "source": [
    "test_data = pd.DataFrame()\n",
    "for i in range(features.shape[1]):\n",
    "    test_data[features[0, i]] = series[i]"
   ]
  },
  {
   "cell_type": "code",
   "execution_count": 32,
   "metadata": {},
   "outputs": [
    {
     "data": {
      "text/html": [
       "<div>\n",
       "<style scoped>\n",
       "    .dataframe tbody tr th:only-of-type {\n",
       "        vertical-align: middle;\n",
       "    }\n",
       "\n",
       "    .dataframe tbody tr th {\n",
       "        vertical-align: top;\n",
       "    }\n",
       "\n",
       "    .dataframe thead th {\n",
       "        text-align: right;\n",
       "    }\n",
       "</style>\n",
       "<table border=\"1\" class=\"dataframe\">\n",
       "  <thead>\n",
       "    <tr style=\"text-align: right;\">\n",
       "      <th></th>\n",
       "      <th>400</th>\n",
       "      <th>402</th>\n",
       "      <th>404</th>\n",
       "      <th>406</th>\n",
       "      <th>408</th>\n",
       "      <th>410</th>\n",
       "      <th>412</th>\n",
       "      <th>414</th>\n",
       "      <th>416</th>\n",
       "      <th>418</th>\n",
       "      <th>...</th>\n",
       "      <th>2232</th>\n",
       "      <th>2234</th>\n",
       "      <th>2236</th>\n",
       "      <th>2238</th>\n",
       "      <th>2240</th>\n",
       "      <th>2242</th>\n",
       "      <th>2244</th>\n",
       "      <th>2246</th>\n",
       "      <th>2248</th>\n",
       "      <th>2250</th>\n",
       "    </tr>\n",
       "  </thead>\n",
       "  <tbody>\n",
       "    <tr>\n",
       "      <th>0</th>\n",
       "      <td>0.819094</td>\n",
       "      <td>0.846816</td>\n",
       "      <td>0.864817</td>\n",
       "      <td>0.886129</td>\n",
       "      <td>0.899723</td>\n",
       "      <td>0.910357</td>\n",
       "      <td>0.920238</td>\n",
       "      <td>0.924587</td>\n",
       "      <td>0.924169</td>\n",
       "      <td>0.921422</td>\n",
       "      <td>...</td>\n",
       "      <td>3.629609</td>\n",
       "      <td>3.628768</td>\n",
       "      <td>3.581720</td>\n",
       "      <td>3.651114</td>\n",
       "      <td>3.602773</td>\n",
       "      <td>3.648682</td>\n",
       "      <td>3.613181</td>\n",
       "      <td>3.657350</td>\n",
       "      <td>3.655286</td>\n",
       "      <td>3.597800</td>\n",
       "    </tr>\n",
       "    <tr>\n",
       "      <th>1</th>\n",
       "      <td>0.913874</td>\n",
       "      <td>0.955075</td>\n",
       "      <td>0.988696</td>\n",
       "      <td>1.020162</td>\n",
       "      <td>1.044872</td>\n",
       "      <td>1.067709</td>\n",
       "      <td>1.092983</td>\n",
       "      <td>1.107291</td>\n",
       "      <td>1.122817</td>\n",
       "      <td>1.135013</td>\n",
       "      <td>...</td>\n",
       "      <td>3.624469</td>\n",
       "      <td>3.693003</td>\n",
       "      <td>3.671937</td>\n",
       "      <td>3.585491</td>\n",
       "      <td>3.585035</td>\n",
       "      <td>3.656710</td>\n",
       "      <td>3.712139</td>\n",
       "      <td>3.611069</td>\n",
       "      <td>3.602075</td>\n",
       "      <td>3.578345</td>\n",
       "    </tr>\n",
       "    <tr>\n",
       "      <th>2</th>\n",
       "      <td>1.005503</td>\n",
       "      <td>1.045450</td>\n",
       "      <td>1.085811</td>\n",
       "      <td>1.127846</td>\n",
       "      <td>1.157784</td>\n",
       "      <td>1.188067</td>\n",
       "      <td>1.219071</td>\n",
       "      <td>1.249703</td>\n",
       "      <td>1.270131</td>\n",
       "      <td>1.296783</td>\n",
       "      <td>...</td>\n",
       "      <td>3.612584</td>\n",
       "      <td>3.712756</td>\n",
       "      <td>3.670530</td>\n",
       "      <td>3.594609</td>\n",
       "      <td>3.566424</td>\n",
       "      <td>3.602968</td>\n",
       "      <td>3.612973</td>\n",
       "      <td>3.664729</td>\n",
       "      <td>3.634739</td>\n",
       "      <td>3.611298</td>\n",
       "    </tr>\n",
       "    <tr>\n",
       "      <th>3</th>\n",
       "      <td>0.845709</td>\n",
       "      <td>0.872790</td>\n",
       "      <td>0.901841</td>\n",
       "      <td>0.925214</td>\n",
       "      <td>0.946609</td>\n",
       "      <td>0.956449</td>\n",
       "      <td>0.971971</td>\n",
       "      <td>0.981736</td>\n",
       "      <td>0.986136</td>\n",
       "      <td>0.991593</td>\n",
       "      <td>...</td>\n",
       "      <td>3.628277</td>\n",
       "      <td>3.614616</td>\n",
       "      <td>3.592516</td>\n",
       "      <td>3.597444</td>\n",
       "      <td>3.656557</td>\n",
       "      <td>3.670788</td>\n",
       "      <td>3.644199</td>\n",
       "      <td>3.628403</td>\n",
       "      <td>3.614521</td>\n",
       "      <td>3.553668</td>\n",
       "    </tr>\n",
       "    <tr>\n",
       "      <th>4</th>\n",
       "      <td>0.733568</td>\n",
       "      <td>0.755497</td>\n",
       "      <td>0.767425</td>\n",
       "      <td>0.779585</td>\n",
       "      <td>0.785675</td>\n",
       "      <td>0.787037</td>\n",
       "      <td>0.787917</td>\n",
       "      <td>0.785697</td>\n",
       "      <td>0.780111</td>\n",
       "      <td>0.774473</td>\n",
       "      <td>...</td>\n",
       "      <td>3.560951</td>\n",
       "      <td>3.655813</td>\n",
       "      <td>3.581869</td>\n",
       "      <td>3.722736</td>\n",
       "      <td>3.618501</td>\n",
       "      <td>3.641515</td>\n",
       "      <td>3.644560</td>\n",
       "      <td>3.690709</td>\n",
       "      <td>3.638474</td>\n",
       "      <td>3.687253</td>\n",
       "    </tr>\n",
       "  </tbody>\n",
       "</table>\n",
       "<p>5 rows × 926 columns</p>\n",
       "</div>"
      ],
      "text/plain": [
       "       400       402       404       406       408       410       412   \\\n",
       "0  0.819094  0.846816  0.864817  0.886129  0.899723  0.910357  0.920238   \n",
       "1  0.913874  0.955075  0.988696  1.020162  1.044872  1.067709  1.092983   \n",
       "2  1.005503  1.045450  1.085811  1.127846  1.157784  1.188067  1.219071   \n",
       "3  0.845709  0.872790  0.901841  0.925214  0.946609  0.956449  0.971971   \n",
       "4  0.733568  0.755497  0.767425  0.779585  0.785675  0.787037  0.787917   \n",
       "\n",
       "       414       416       418     ...         2232      2234      2236  \\\n",
       "0  0.924587  0.924169  0.921422    ...     3.629609  3.628768  3.581720   \n",
       "1  1.107291  1.122817  1.135013    ...     3.624469  3.693003  3.671937   \n",
       "2  1.249703  1.270131  1.296783    ...     3.612584  3.712756  3.670530   \n",
       "3  0.981736  0.986136  0.991593    ...     3.628277  3.614616  3.592516   \n",
       "4  0.785697  0.780111  0.774473    ...     3.560951  3.655813  3.581869   \n",
       "\n",
       "       2238      2240      2242      2244      2246      2248      2250  \n",
       "0  3.651114  3.602773  3.648682  3.613181  3.657350  3.655286  3.597800  \n",
       "1  3.585491  3.585035  3.656710  3.712139  3.611069  3.602075  3.578345  \n",
       "2  3.594609  3.566424  3.602968  3.612973  3.664729  3.634739  3.611298  \n",
       "3  3.597444  3.656557  3.670788  3.644199  3.628403  3.614521  3.553668  \n",
       "4  3.722736  3.618501  3.641515  3.644560  3.690709  3.638474  3.687253  \n",
       "\n",
       "[5 rows x 926 columns]"
      ]
     },
     "execution_count": 32,
     "metadata": {},
     "output_type": "execute_result"
    }
   ],
   "source": [
    "test_data.head()"
   ]
  },
  {
   "cell_type": "code",
   "execution_count": 33,
   "metadata": {
    "collapsed": true
   },
   "outputs": [],
   "source": [
    "y_test_true = pd.Series(ytest.ravel())"
   ]
  },
  {
   "cell_type": "code",
   "execution_count": 34,
   "metadata": {},
   "outputs": [
    {
     "data": {
      "text/plain": [
       "0     4.24\n",
       "1     7.14\n",
       "2    10.07\n",
       "3    10.39\n",
       "4    10.51\n",
       "dtype: float64"
      ]
     },
     "execution_count": 34,
     "metadata": {},
     "output_type": "execute_result"
    }
   ],
   "source": [
    "y_test_true.head()"
   ]
  },
  {
   "cell_type": "markdown",
   "metadata": {},
   "source": [
    "## Applying the model"
   ]
  },
  {
   "cell_type": "code",
   "execution_count": 35,
   "metadata": {
    "collapsed": true
   },
   "outputs": [],
   "source": [
    "regressor=LinearRegression()"
   ]
  },
  {
   "cell_type": "code",
   "execution_count": 36,
   "metadata": {},
   "outputs": [
    {
     "data": {
      "text/plain": [
       "LinearRegression(copy_X=True, fit_intercept=True, n_jobs=1, normalize=False)"
      ]
     },
     "execution_count": 36,
     "metadata": {},
     "output_type": "execute_result"
    }
   ],
   "source": [
    "regressor.fit(data,y_train_true)"
   ]
  },
  {
   "cell_type": "code",
   "execution_count": 37,
   "metadata": {
    "collapsed": true
   },
   "outputs": [],
   "source": [
    "y_prediction=regressor.predict(test_data)"
   ]
  },
  {
   "cell_type": "markdown",
   "metadata": {},
   "source": [
    "### Finding RMS error"
   ]
  },
  {
   "cell_type": "code",
   "execution_count": 24,
   "metadata": {
    "collapsed": true
   },
   "outputs": [],
   "source": [
    "RMSE=np.sqrt(mean_squared_error(y_true=y_test_true,y_pred=y_prediction))"
   ]
  },
  {
   "cell_type": "code",
   "execution_count": 43,
   "metadata": {},
   "outputs": [
    {
     "name": "stdout",
     "output_type": "stream",
     "text": [
      "('RMSE: ', 0.73407491062452379)\n"
     ]
    }
   ],
   "source": [
    "print('RMSE: ', RMSE)"
   ]
  },
  {
   "cell_type": "code",
   "execution_count": 46,
   "metadata": {},
   "outputs": [
    {
     "data": {
      "image/png": "[encoded data removed]",
      "text/plain": [
       "<matplotlib.figure.Figure at 0x7f4ba468b810>"
      ]
     },
     "metadata": {},
     "output_type": "display_data"
    }
   ],
   "source": [
    "plot_RMSE = y_prediction - y_test_true\n",
    "plt.xlabel('RMSE')\n",
    "plt.ylabel('No. of times')\n",
    "plt.hist(plot_RMSE)\n",
    "plt.show()"
   ]
  },
  {
   "cell_type": "code",
   "execution_count": null,
   "metadata": {
    "collapsed": true
   },
   "outputs": [],
   "source": []
  }
 ],
 "metadata": {
  "kernelspec": {
   "display_name": "Python 2",
   "language": "python",
   "name": "python2"
  },
  "language_info": {
   "codemirror_mode": {
    "name": "ipython",
    "version": 2
   },
   "file_extension": ".py",
   "mimetype": "text/x-python",
   "name": "python",
   "nbconvert_exporter": "python",
   "pygments_lexer": "ipython2",
   "version": "2.7.12"
  }
 },
 "nbformat": 4,
 "nbformat_minor": 2
}
